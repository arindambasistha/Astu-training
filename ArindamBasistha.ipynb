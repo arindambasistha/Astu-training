{
 "cells": [
  {
   "cell_type": "markdown",
   "metadata": {},
   "source": [
    "# Assignment on PCA"
   ]
  },
  {
   "cell_type": "code",
   "execution_count": 21,
   "metadata": {},
   "outputs": [],
   "source": [
    "import pandas as pd\n",
    "import numpy as np\n",
    "import matplotlib.pyplot as plt\n",
    "from sklearn.decomposition import PCA\n",
    "from sklearn.preprocessing import StandardScaler"
   ]
  },
  {
   "cell_type": "markdown",
   "metadata": {},
   "source": [
    "# Loading and preprocessing data"
   ]
  },
  {
   "cell_type": "code",
   "execution_count": 22,
   "metadata": {},
   "outputs": [
    {
     "data": {
      "text/plain": [
       "(8041, 35)"
      ]
     },
     "execution_count": 22,
     "metadata": {},
     "output_type": "execute_result"
    }
   ],
   "source": [
    "# Loading the dataset\n",
    "df= pd.read_csv('PCA_practice_dataset.csv')\n",
    "df.head()\n",
    "X = df.to_numpy()\n",
    "X.shape"
   ]
  },
  {
   "cell_type": "code",
   "execution_count": 23,
   "metadata": {},
   "outputs": [],
   "source": [
    "# Scaling data with mean=0 and standard deviation=1\n",
    "scaler= StandardScaler()\n",
    "X= scaler.fit_transform(X)"
   ]
  },
  {
   "cell_type": "markdown",
   "metadata": {},
   "source": [
    "# Applying PCA"
   ]
  },
  {
   "cell_type": "code",
   "execution_count": 24,
   "metadata": {},
   "outputs": [
    {
     "name": "stdout",
     "output_type": "stream",
     "text": [
      "Components required for90% are:[2, 2, 3, 3, 4, 4, 5, 6]\n",
      "Components required for91% are:[2, 2, 3, 3, 4, 4, 5, 6]\n",
      "Components required for92% are:[2, 2, 3, 3, 4, 4, 5, 6]\n",
      "Components required for93% are:[2, 2, 3, 3, 4, 4, 5, 6]\n",
      "Components required for94% are:[2, 2, 3, 3, 4, 4, 5, 6]\n",
      "Components required for95% are:[2, 2, 3, 3, 4, 4, 5, 6]\n",
      "Components required for96% are:[2, 2, 3, 3, 4, 4, 5, 6]\n",
      "Components required for97% are:[2, 2, 3, 3, 4, 4, 5, 6]\n"
     ]
    }
   ],
   "source": [
    "#Applying PCA\n",
    "pca= PCA()\n",
    "X= pca.fit_transform(X)\n",
    "\n",
    "#Getting sum of all Eigen values for their corresponding Eigen vectors\n",
    "cumulative_variance= np.cumsum(pca.explained_variance_ratio_)*100\n",
    "\n",
    "#Declaring list of our desired thresholds\n",
    "thresholds=[i for i in range(90, 97+1, 1)]\n",
    "\n",
    "#List of components required to retain variance\n",
    "components=[np.argmax(cumulative_variance> threshold) for threshold in thresholds]\n",
    "\n",
    "for component, threshold in zip(components,thresholds):\n",
    "    print(\"Components required for{}% are:{}\".format(threshold,components))\n"
   ]
  },
  {
   "cell_type": "code",
   "execution_count": 25,
   "metadata": {},
   "outputs": [
    {
     "data": {
      "image/png": "[encoded data removed]",
      "text/plain": [
       "<Figure size 432x288 with 1 Axes>"
      ]
     },
     "metadata": {
      "needs_background": "light"
     },
     "output_type": "display_data"
    }
   ],
   "source": [
    "#Plotting data in the form of scree plot\n",
    "plt.plot(components, range(90,97+1,1),'ro-',linewidth=2)\n",
    "plt.title(\"Scree plot\")\n",
    "plt.xlabel('Principal Component')\n",
    "plt.ylabel('Threshold in %')\n",
    "plt.show()"
   ]
  },
  {
   "cell_type": "code",
   "execution_count": null,
   "metadata": {},
   "outputs": [],
   "source": []
  },
  {
   "cell_type": "code",
   "execution_count": null,
   "metadata": {},
   "outputs": [],
   "source": []
  }
 ],
 "metadata": {
  "kernelspec": {
   "display_name": "Python 3",
   "language": "python",
   "name": "python3"
  },
  "language_info": {
   "codemirror_mode": {
    "name": "ipython",
    "version": 3
   },
   "file_extension": ".py",
   "mimetype": "text/x-python",
   "name": "python",
   "nbconvert_exporter": "python",
   "pygments_lexer": "ipython3",
   "version": "3.8.3"
  }
 },
 "nbformat": 4,
 "nbformat_minor": 4
}
